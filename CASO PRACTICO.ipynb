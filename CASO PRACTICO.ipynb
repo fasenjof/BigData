{
 "cells": [
  {
   "cell_type": "code",
   "execution_count": 6,
   "metadata": {},
   "outputs": [],
   "source": [
    "import csv\n",
    "\n",
    "FICHERO_ORIGEN = \"PitchingPost.csv\"\n",
    "\n",
    "# Función que escribe un diccionario en un fichero CSV, con el nombre que recibe.\n",
    "def escribe(map, fileName):\n",
    "    outFile=open(fileName, \"w\")\n",
    "    outWriter = csv.writer(outFile)\n",
    "    for key in map:\n",
    "        outWriter.writerow([key,map.get(key)])\n",
    "    outFile.close()\n",
    "    print ('Archivo ' + fileName + ' creado con exito.')\n",
    "\n",
    "# Función que, dada una columna, contabiliza las veces que aparece cada\n",
    "# término de esa columna en el archivo \"PitchingPost.csv\"\n",
    "def frecuency(column, fileName):\n",
    "    error = False\n",
    "    map = {}\n",
    "    try:\n",
    "        file=open(FICHERO_ORIGEN)\n",
    "    except IOError:       \n",
    "        error = True\n",
    "        print (\"Error al intentar abrir el archivo \" + FICHERO_ORIGEN + \".\")\n",
    "    if (error == False):\n",
    "        reader=csv.reader(file)\n",
    "        data=list(reader)\n",
    "        for i in range(1, len(data)):\n",
    "            key=str(data[i][column]) \n",
    "            if map.get(key):\n",
    "                map[key]=map[key]+1\n",
    "            else:\n",
    "                map[key]=1\n",
    "        file.close()\n",
    "        escribe (map, fileName)\n"
   ]
  },
  {
   "cell_type": "code",
   "execution_count": 7,
   "metadata": {},
   "outputs": [
    {
     "name": "stdout",
     "output_type": "stream",
     "text": [
      "Archivo AcumAnnos.csv creado con exito.\n",
      "Archivo AcumAnnos ordenado con exito.\n",
      "Archivo AcumJugadores.csv creado con exito.\n",
      "Archivo AcumJugadores ordenado con exito.\n",
      "Archivo PitchingPost ordenado con exito.\n"
     ]
    }
   ],
   "source": [
    "def sort(nombre_fichero):\n",
    "    error = False\n",
    "    try:\n",
    "        file=open(nombre_fichero + '.csv')\n",
    "    except IOError:\n",
    "        error = True\n",
    "        print (\"Error al intentar abrir el archivo \" + nombre_fichero + \".\")\n",
    "    if (error == False):\n",
    "        reader=csv.reader(file)\n",
    "        lista = []\n",
    "        for linea in reader:\n",
    "            lista.append(linea)\n",
    "        file.close()\n",
    "        lista.sort()\n",
    "        outFile=open(nombre_fichero + \"_Ordenado.csv\", \"w\")\n",
    "        outWriter = csv.writer(outFile)\n",
    "        for row in lista:\n",
    "            outWriter.writerow(row)\n",
    "        outFile.close()\n",
    "        print (\"Archivo \" + nombre_fichero + \" ordenado con exito.\")\n",
    "\n",
    "frecuency(1, \"AcumAnnos.csv\")\n",
    "sort(\"AcumAnnos\")\n",
    "\n",
    "frecuency(0, \"AcumJugadores.csv\")\n",
    "sort(\"AcumJugadores\")\n",
    "\n",
    "sort(\"PitchingPost\")\n"
   ]
  },
  {
   "cell_type": "code",
   "execution_count": null,
   "metadata": {},
   "outputs": [],
   "source": []
  }
 ],
 "metadata": {
  "kernelspec": {
   "display_name": "Python 3",
   "language": "python",
   "name": "python3"
  },
  "language_info": {
   "codemirror_mode": {
    "name": "ipython",
    "version": 3
   },
   "file_extension": ".py",
   "mimetype": "text/x-python",
   "name": "python",
   "nbconvert_exporter": "python",
   "pygments_lexer": "ipython3",
   "version": "3.8.3"
  }
 },
 "nbformat": 4,
 "nbformat_minor": 2
}
